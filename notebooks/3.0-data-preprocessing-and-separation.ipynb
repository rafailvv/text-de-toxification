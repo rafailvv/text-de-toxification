{
 "cells": [
  {
   "cell_type": "code",
   "execution_count": 1,
   "outputs": [],
   "source": [
    "import pandas as pd\n",
    "from sklearn.model_selection import train_test_split\n",
    "import nltk\n",
    "from nltk.tokenize import word_tokenize\n",
    "from sklearn.preprocessing import StandardScaler"
   ],
   "metadata": {
    "collapsed": false,
    "ExecuteTime": {
     "end_time": "2023-11-03T18:30:47.262202400Z",
     "start_time": "2023-11-03T18:30:35.861080500Z"
    }
   }
  },
  {
   "cell_type": "code",
   "execution_count": 2,
   "metadata": {
    "collapsed": true,
    "ExecuteTime": {
     "end_time": "2023-11-03T18:30:50.462508500Z",
     "start_time": "2023-11-03T18:30:47.263202500Z"
    }
   },
   "outputs": [
    {
     "data": {
      "text/plain": "   id                                          reference  \\\n0   0  If Alkar is flooding her with psychic waste, t...   \n1   1                          Now you're getting nasty.   \n2   2           Well, we could spare your life, for one.   \n3   3          Ah! Monkey, you've got to snap out of it.   \n4   4                   I've got orders to put her down.   \n\n                                         translation  similarity  lenght_diff  \\\n0  if Alkar floods her with her mental waste, it ...    0.785171     0.010309   \n1                        you're becoming disgusting.    0.749687     0.071429   \n2                      well, we can spare your life.    0.919051     0.268293   \n3                       monkey, you have to wake up.    0.664333     0.309524   \n4                         I have orders to kill her.    0.726639     0.181818   \n\n    ref_tox   trn_tox  \n0  0.014195  0.981983  \n1  0.065473  0.999039  \n2  0.213313  0.985068  \n3  0.053362  0.994215  \n4  0.009402  0.999348  ",
      "text/html": "<div>\n<style scoped>\n    .dataframe tbody tr th:only-of-type {\n        vertical-align: middle;\n    }\n\n    .dataframe tbody tr th {\n        vertical-align: top;\n    }\n\n    .dataframe thead th {\n        text-align: right;\n    }\n</style>\n<table border=\"1\" class=\"dataframe\">\n  <thead>\n    <tr style=\"text-align: right;\">\n      <th></th>\n      <th>id</th>\n      <th>reference</th>\n      <th>translation</th>\n      <th>similarity</th>\n      <th>lenght_diff</th>\n      <th>ref_tox</th>\n      <th>trn_tox</th>\n    </tr>\n  </thead>\n  <tbody>\n    <tr>\n      <th>0</th>\n      <td>0</td>\n      <td>If Alkar is flooding her with psychic waste, t...</td>\n      <td>if Alkar floods her with her mental waste, it ...</td>\n      <td>0.785171</td>\n      <td>0.010309</td>\n      <td>0.014195</td>\n      <td>0.981983</td>\n    </tr>\n    <tr>\n      <th>1</th>\n      <td>1</td>\n      <td>Now you're getting nasty.</td>\n      <td>you're becoming disgusting.</td>\n      <td>0.749687</td>\n      <td>0.071429</td>\n      <td>0.065473</td>\n      <td>0.999039</td>\n    </tr>\n    <tr>\n      <th>2</th>\n      <td>2</td>\n      <td>Well, we could spare your life, for one.</td>\n      <td>well, we can spare your life.</td>\n      <td>0.919051</td>\n      <td>0.268293</td>\n      <td>0.213313</td>\n      <td>0.985068</td>\n    </tr>\n    <tr>\n      <th>3</th>\n      <td>3</td>\n      <td>Ah! Monkey, you've got to snap out of it.</td>\n      <td>monkey, you have to wake up.</td>\n      <td>0.664333</td>\n      <td>0.309524</td>\n      <td>0.053362</td>\n      <td>0.994215</td>\n    </tr>\n    <tr>\n      <th>4</th>\n      <td>4</td>\n      <td>I've got orders to put her down.</td>\n      <td>I have orders to kill her.</td>\n      <td>0.726639</td>\n      <td>0.181818</td>\n      <td>0.009402</td>\n      <td>0.999348</td>\n    </tr>\n  </tbody>\n</table>\n</div>"
     },
     "execution_count": 2,
     "metadata": {},
     "output_type": "execute_result"
    }
   ],
   "source": [
    "DATA_PATH = '../data/'\n",
    "# Read the CSV file into a DataFrame\n",
    "df = pd.read_csv(DATA_PATH + 'raw/filtered.tsv', delimiter='\\t')\n",
    "# Display the first few rows of the dataset\n",
    "df.head()"
   ]
  },
  {
   "cell_type": "markdown",
   "source": [
    "Select the relevant columns for training the text de-toxification model, which are 'reference', 'translation', 'ref_tox', and 'trn_tox'.\n"
   ],
   "metadata": {
    "collapsed": false
   }
  },
  {
   "cell_type": "code",
   "execution_count": 3,
   "outputs": [
    {
     "data": {
      "text/plain": "   id                                          reference  \\\n0   0  If Alkar is flooding her with psychic waste, t...   \n1   1                          Now you're getting nasty.   \n2   2           Well, we could spare your life, for one.   \n3   3          Ah! Monkey, you've got to snap out of it.   \n4   4                   I've got orders to put her down.   \n\n                                         translation  similarity  lenght_diff  \\\n0  if Alkar floods her with her mental waste, it ...    0.288055    -1.363574   \n1                        you're becoming disgusting.   -0.094744    -0.797951   \n2                      well, we can spare your life.    1.732364     1.023913   \n3                       monkey, you have to wake up.   -1.015544     1.405483   \n4                         I have orders to kill her.   -0.343382     0.223641   \n\n    ref_tox   trn_tox  \n0 -1.152122  1.193047  \n1 -1.040057  1.230213  \n2 -0.716958  1.199768  \n3 -1.066524  1.219701  \n4 -1.162597  1.230887  ",
      "text/html": "<div>\n<style scoped>\n    .dataframe tbody tr th:only-of-type {\n        vertical-align: middle;\n    }\n\n    .dataframe tbody tr th {\n        vertical-align: top;\n    }\n\n    .dataframe thead th {\n        text-align: right;\n    }\n</style>\n<table border=\"1\" class=\"dataframe\">\n  <thead>\n    <tr style=\"text-align: right;\">\n      <th></th>\n      <th>id</th>\n      <th>reference</th>\n      <th>translation</th>\n      <th>similarity</th>\n      <th>lenght_diff</th>\n      <th>ref_tox</th>\n      <th>trn_tox</th>\n    </tr>\n  </thead>\n  <tbody>\n    <tr>\n      <th>0</th>\n      <td>0</td>\n      <td>If Alkar is flooding her with psychic waste, t...</td>\n      <td>if Alkar floods her with her mental waste, it ...</td>\n      <td>0.288055</td>\n      <td>-1.363574</td>\n      <td>-1.152122</td>\n      <td>1.193047</td>\n    </tr>\n    <tr>\n      <th>1</th>\n      <td>1</td>\n      <td>Now you're getting nasty.</td>\n      <td>you're becoming disgusting.</td>\n      <td>-0.094744</td>\n      <td>-0.797951</td>\n      <td>-1.040057</td>\n      <td>1.230213</td>\n    </tr>\n    <tr>\n      <th>2</th>\n      <td>2</td>\n      <td>Well, we could spare your life, for one.</td>\n      <td>well, we can spare your life.</td>\n      <td>1.732364</td>\n      <td>1.023913</td>\n      <td>-0.716958</td>\n      <td>1.199768</td>\n    </tr>\n    <tr>\n      <th>3</th>\n      <td>3</td>\n      <td>Ah! Monkey, you've got to snap out of it.</td>\n      <td>monkey, you have to wake up.</td>\n      <td>-1.015544</td>\n      <td>1.405483</td>\n      <td>-1.066524</td>\n      <td>1.219701</td>\n    </tr>\n    <tr>\n      <th>4</th>\n      <td>4</td>\n      <td>I've got orders to put her down.</td>\n      <td>I have orders to kill her.</td>\n      <td>-0.343382</td>\n      <td>0.223641</td>\n      <td>-1.162597</td>\n      <td>1.230887</td>\n    </tr>\n  </tbody>\n</table>\n</div>"
     },
     "execution_count": 3,
     "metadata": {},
     "output_type": "execute_result"
    }
   ],
   "source": [
    "# Normalize/Standardize numerical features\n",
    "scaler = StandardScaler()\n",
    "df[['ref_tox', 'trn_tox', 'similarity', 'lenght_diff']] = scaler.fit_transform(df[['ref_tox', 'trn_tox', 'similarity', 'lenght_diff']])\n",
    "df.head()"
   ],
   "metadata": {
    "collapsed": false,
    "ExecuteTime": {
     "end_time": "2023-11-03T18:30:50.810645800Z",
     "start_time": "2023-11-03T18:30:50.462508500Z"
    }
   }
  },
  {
   "cell_type": "code",
   "execution_count": 8,
   "outputs": [
    {
     "data": {
      "text/plain": "   id                                          reference  \\\n0   0  if alkar is flooding her with psychic waste th...   \n1   1                            now youre getting nasty   \n2   2              well we could spare your life for one   \n3   3              ah monkey youve got to snap out of it   \n4   4                     ive got orders to put her down   \n\n                                         translation  similarity  lenght_diff  \\\n0  if alkar floods her with her mental waste it w...    0.288055    -1.363574   \n1                          youre becoming disgusting   -0.094744    -0.797951   \n2                        well we can spare your life    1.732364     1.023913   \n3                         monkey you have to wake up   -1.015544     1.405483   \n4                          i have orders to kill her   -0.343382     0.223641   \n\n    ref_tox   trn_tox  \n0 -1.152122  1.193047  \n1 -1.040057  1.230213  \n2 -0.716958  1.199768  \n3 -1.066524  1.219701  \n4 -1.162597  1.230887  ",
      "text/html": "<div>\n<style scoped>\n    .dataframe tbody tr th:only-of-type {\n        vertical-align: middle;\n    }\n\n    .dataframe tbody tr th {\n        vertical-align: top;\n    }\n\n    .dataframe thead th {\n        text-align: right;\n    }\n</style>\n<table border=\"1\" class=\"dataframe\">\n  <thead>\n    <tr style=\"text-align: right;\">\n      <th></th>\n      <th>id</th>\n      <th>reference</th>\n      <th>translation</th>\n      <th>similarity</th>\n      <th>lenght_diff</th>\n      <th>ref_tox</th>\n      <th>trn_tox</th>\n    </tr>\n  </thead>\n  <tbody>\n    <tr>\n      <th>0</th>\n      <td>0</td>\n      <td>if alkar is flooding her with psychic waste th...</td>\n      <td>if alkar floods her with her mental waste it w...</td>\n      <td>0.288055</td>\n      <td>-1.363574</td>\n      <td>-1.152122</td>\n      <td>1.193047</td>\n    </tr>\n    <tr>\n      <th>1</th>\n      <td>1</td>\n      <td>now youre getting nasty</td>\n      <td>youre becoming disgusting</td>\n      <td>-0.094744</td>\n      <td>-0.797951</td>\n      <td>-1.040057</td>\n      <td>1.230213</td>\n    </tr>\n    <tr>\n      <th>2</th>\n      <td>2</td>\n      <td>well we could spare your life for one</td>\n      <td>well we can spare your life</td>\n      <td>1.732364</td>\n      <td>1.023913</td>\n      <td>-0.716958</td>\n      <td>1.199768</td>\n    </tr>\n    <tr>\n      <th>3</th>\n      <td>3</td>\n      <td>ah monkey youve got to snap out of it</td>\n      <td>monkey you have to wake up</td>\n      <td>-1.015544</td>\n      <td>1.405483</td>\n      <td>-1.066524</td>\n      <td>1.219701</td>\n    </tr>\n    <tr>\n      <th>4</th>\n      <td>4</td>\n      <td>ive got orders to put her down</td>\n      <td>i have orders to kill her</td>\n      <td>-0.343382</td>\n      <td>0.223641</td>\n      <td>-1.162597</td>\n      <td>1.230887</td>\n    </tr>\n  </tbody>\n</table>\n</div>"
     },
     "execution_count": 7,
     "metadata": {},
     "output_type": "execute_result"
    },
    {
     "data": {
      "text/plain": "   id                                          reference  \\\n0   0  if alkar is flooding her with psychic waste th...   \n1   1                            now youre getting nasty   \n2   2              well we could spare your life for one   \n3   3              ah monkey youve got to snap out of it   \n4   4                     ive got orders to put her down   \n\n                                         translation  similarity  lenght_diff  \\\n0  if alkar floods her with her mental waste it w...    0.288055    -1.363574   \n1                          youre becoming disgusting   -0.094744    -0.797951   \n2                        well we can spare your life    1.732364     1.023913   \n3                         monkey you have to wake up   -1.015544     1.405483   \n4                          i have orders to kill her   -0.343382     0.223641   \n\n    ref_tox   trn_tox  \n0 -1.152122  1.193047  \n1 -1.040057  1.230213  \n2 -0.716958  1.199768  \n3 -1.066524  1.219701  \n4 -1.162597  1.230887  ",
      "text/html": "<div>\n<style scoped>\n    .dataframe tbody tr th:only-of-type {\n        vertical-align: middle;\n    }\n\n    .dataframe tbody tr th {\n        vertical-align: top;\n    }\n\n    .dataframe thead th {\n        text-align: right;\n    }\n</style>\n<table border=\"1\" class=\"dataframe\">\n  <thead>\n    <tr style=\"text-align: right;\">\n      <th></th>\n      <th>id</th>\n      <th>reference</th>\n      <th>translation</th>\n      <th>similarity</th>\n      <th>lenght_diff</th>\n      <th>ref_tox</th>\n      <th>trn_tox</th>\n    </tr>\n  </thead>\n  <tbody>\n    <tr>\n      <th>0</th>\n      <td>0</td>\n      <td>if alkar is flooding her with psychic waste th...</td>\n      <td>if alkar floods her with her mental waste it w...</td>\n      <td>0.288055</td>\n      <td>-1.363574</td>\n      <td>-1.152122</td>\n      <td>1.193047</td>\n    </tr>\n    <tr>\n      <th>1</th>\n      <td>1</td>\n      <td>now youre getting nasty</td>\n      <td>youre becoming disgusting</td>\n      <td>-0.094744</td>\n      <td>-0.797951</td>\n      <td>-1.040057</td>\n      <td>1.230213</td>\n    </tr>\n    <tr>\n      <th>2</th>\n      <td>2</td>\n      <td>well we could spare your life for one</td>\n      <td>well we can spare your life</td>\n      <td>1.732364</td>\n      <td>1.023913</td>\n      <td>-0.716958</td>\n      <td>1.199768</td>\n    </tr>\n    <tr>\n      <th>3</th>\n      <td>3</td>\n      <td>ah monkey youve got to snap out of it</td>\n      <td>monkey you have to wake up</td>\n      <td>-1.015544</td>\n      <td>1.405483</td>\n      <td>-1.066524</td>\n      <td>1.219701</td>\n    </tr>\n    <tr>\n      <th>4</th>\n      <td>4</td>\n      <td>ive got orders to put her down</td>\n      <td>i have orders to kill her</td>\n      <td>-0.343382</td>\n      <td>0.223641</td>\n      <td>-1.162597</td>\n      <td>1.230887</td>\n    </tr>\n  </tbody>\n</table>\n</div>"
     },
     "execution_count": 8,
     "metadata": {},
     "output_type": "execute_result"
    }
   ],
   "source": [
    "# Text preprocessing\n",
    "# Lowercasing the text\n",
    "df['reference'] = df['reference'].str.lower()\n",
    "df['translation'] = df['translation'].str.lower()\n",
    "\n",
    "# Remove special characters\n",
    "df['reference'] = df['reference'].str.replace(r'[^\\w\\s]+', '', regex=True)\n",
    "df['translation'] = df['translation'].str.replace(r'[^\\w\\s]+', '', regex=True)\n",
    "df.head()"
   ],
   "metadata": {
    "collapsed": false,
    "ExecuteTime": {
     "end_time": "2023-11-03T18:31:05.095576Z",
     "start_time": "2023-11-03T18:30:58.474022600Z"
    }
   }
  },
  {
   "cell_type": "markdown",
   "source": [
    "Split the data into 80% for training and 20% for testing"
   ],
   "metadata": {
    "collapsed": false
   }
  },
  {
   "cell_type": "code",
   "execution_count": 11,
   "outputs": [],
   "source": [
    "# Split the data into training, validation, and test sets\n",
    "# 80% for training and 20% for testing\n",
    "train_data, test_data = train_test_split(df.drop('id', axis=1), test_size=0.2, random_state=42)\n"
   ],
   "metadata": {
    "collapsed": false,
    "ExecuteTime": {
     "end_time": "2023-11-03T18:41:14.630260300Z",
     "start_time": "2023-11-03T18:41:13.900265900Z"
    }
   }
  },
  {
   "cell_type": "code",
   "execution_count": 12,
   "outputs": [],
   "source": [
    "# Save the split datasets to separate CSV files\n",
    "train_data.to_csv(DATA_PATH + 'interim/train.csv', index=False)\n",
    "test_data.to_csv(DATA_PATH + 'interim/test.csv', index=False)\n"
   ],
   "metadata": {
    "collapsed": false,
    "ExecuteTime": {
     "end_time": "2023-11-03T18:41:24.535329200Z",
     "start_time": "2023-11-03T18:41:15.257261400Z"
    }
   }
  },
  {
   "cell_type": "code",
   "execution_count": 13,
   "outputs": [],
   "source": [
    "TOXICITY_THRESHOLD = 0.9\n",
    "filtered_df = df[df['ref_tox'] > TOXICITY_THRESHOLD]\n",
    "filtered_df.to_csv(DATA_PATH + 'interim/most_toxic_data.csv', index=False)"
   ],
   "metadata": {
    "collapsed": false,
    "ExecuteTime": {
     "end_time": "2023-11-03T22:03:24.959438600Z",
     "start_time": "2023-11-03T22:03:19.928690Z"
    }
   }
  },
  {
   "cell_type": "code",
   "execution_count": null,
   "outputs": [],
   "source": [],
   "metadata": {
    "collapsed": false
   }
  }
 ],
 "metadata": {
  "kernelspec": {
   "display_name": "Python 3",
   "language": "python",
   "name": "python3"
  },
  "language_info": {
   "codemirror_mode": {
    "name": "ipython",
    "version": 2
   },
   "file_extension": ".py",
   "mimetype": "text/x-python",
   "name": "python",
   "nbconvert_exporter": "python",
   "pygments_lexer": "ipython2",
   "version": "2.7.6"
  }
 },
 "nbformat": 4,
 "nbformat_minor": 0
}
