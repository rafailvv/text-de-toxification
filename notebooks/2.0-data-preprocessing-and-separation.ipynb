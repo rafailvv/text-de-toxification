{
 "cells": [
  {
   "cell_type": "code",
   "execution_count": 1,
   "outputs": [],
   "source": [
    "import pandas as pd\n",
    "from sklearn.model_selection import train_test_split\n",
    "import nltk\n",
    "from nltk.tokenize import word_tokenize\n",
    "from sklearn.preprocessing import StandardScaler"
   ],
   "metadata": {
    "collapsed": false,
    "ExecuteTime": {
     "end_time": "2023-11-02T21:46:13.317512Z",
     "start_time": "2023-11-02T21:46:12.238095700Z"
    }
   }
  },
  {
   "cell_type": "code",
   "execution_count": 2,
   "metadata": {
    "collapsed": true,
    "ExecuteTime": {
     "end_time": "2023-11-02T21:46:23.324359100Z",
     "start_time": "2023-11-02T21:46:20.596054700Z"
    }
   },
   "outputs": [
    {
     "data": {
      "text/plain": "   id                                          reference  \\\n0   0  If Alkar is flooding her with psychic waste, t...   \n1   1                          Now you're getting nasty.   \n2   2           Well, we could spare your life, for one.   \n3   3          Ah! Monkey, you've got to snap out of it.   \n4   4                   I've got orders to put her down.   \n\n                                         translation  similarity  lenght_diff  \\\n0  if Alkar floods her with her mental waste, it ...    0.785171     0.010309   \n1                        you're becoming disgusting.    0.749687     0.071429   \n2                      well, we can spare your life.    0.919051     0.268293   \n3                       monkey, you have to wake up.    0.664333     0.309524   \n4                         I have orders to kill her.    0.726639     0.181818   \n\n    ref_tox   trn_tox  \n0  0.014195  0.981983  \n1  0.065473  0.999039  \n2  0.213313  0.985068  \n3  0.053362  0.994215  \n4  0.009402  0.999348  ",
      "text/html": "<div>\n<style scoped>\n    .dataframe tbody tr th:only-of-type {\n        vertical-align: middle;\n    }\n\n    .dataframe tbody tr th {\n        vertical-align: top;\n    }\n\n    .dataframe thead th {\n        text-align: right;\n    }\n</style>\n<table border=\"1\" class=\"dataframe\">\n  <thead>\n    <tr style=\"text-align: right;\">\n      <th></th>\n      <th>id</th>\n      <th>reference</th>\n      <th>translation</th>\n      <th>similarity</th>\n      <th>lenght_diff</th>\n      <th>ref_tox</th>\n      <th>trn_tox</th>\n    </tr>\n  </thead>\n  <tbody>\n    <tr>\n      <th>0</th>\n      <td>0</td>\n      <td>If Alkar is flooding her with psychic waste, t...</td>\n      <td>if Alkar floods her with her mental waste, it ...</td>\n      <td>0.785171</td>\n      <td>0.010309</td>\n      <td>0.014195</td>\n      <td>0.981983</td>\n    </tr>\n    <tr>\n      <th>1</th>\n      <td>1</td>\n      <td>Now you're getting nasty.</td>\n      <td>you're becoming disgusting.</td>\n      <td>0.749687</td>\n      <td>0.071429</td>\n      <td>0.065473</td>\n      <td>0.999039</td>\n    </tr>\n    <tr>\n      <th>2</th>\n      <td>2</td>\n      <td>Well, we could spare your life, for one.</td>\n      <td>well, we can spare your life.</td>\n      <td>0.919051</td>\n      <td>0.268293</td>\n      <td>0.213313</td>\n      <td>0.985068</td>\n    </tr>\n    <tr>\n      <th>3</th>\n      <td>3</td>\n      <td>Ah! Monkey, you've got to snap out of it.</td>\n      <td>monkey, you have to wake up.</td>\n      <td>0.664333</td>\n      <td>0.309524</td>\n      <td>0.053362</td>\n      <td>0.994215</td>\n    </tr>\n    <tr>\n      <th>4</th>\n      <td>4</td>\n      <td>I've got orders to put her down.</td>\n      <td>I have orders to kill her.</td>\n      <td>0.726639</td>\n      <td>0.181818</td>\n      <td>0.009402</td>\n      <td>0.999348</td>\n    </tr>\n  </tbody>\n</table>\n</div>"
     },
     "execution_count": 2,
     "metadata": {},
     "output_type": "execute_result"
    }
   ],
   "source": [
    "DATA_PATH = '../data/'\n",
    "# Read the CSV file into a DataFrame\n",
    "df = pd.read_csv(DATA_PATH + 'raw/filtered.tsv', delimiter='\\t')\n",
    "# Display the first few rows of the dataset\n",
    "df.head()"
   ]
  },
  {
   "cell_type": "markdown",
   "source": [
    "Select the relevant columns for training the text de-toxification model, which are 'reference', 'translation', 'ref_tox', and 'trn_tox'.\n"
   ],
   "metadata": {
    "collapsed": false
   }
  },
  {
   "cell_type": "code",
   "execution_count": 4,
   "outputs": [
    {
     "data": {
      "text/plain": "                                           reference  \\\n0  If Alkar is flooding her with psychic waste, t...   \n1                          Now you're getting nasty.   \n2           Well, we could spare your life, for one.   \n3          Ah! Monkey, you've got to snap out of it.   \n4                   I've got orders to put her down.   \n\n                                         translation   ref_tox   trn_tox  \n0  if Alkar floods her with her mental waste, it ...  0.014195  0.981983  \n1                        you're becoming disgusting.  0.065473  0.999039  \n2                      well, we can spare your life.  0.213313  0.985068  \n3                       monkey, you have to wake up.  0.053362  0.994215  \n4                         I have orders to kill her.  0.009402  0.999348  ",
      "text/html": "<div>\n<style scoped>\n    .dataframe tbody tr th:only-of-type {\n        vertical-align: middle;\n    }\n\n    .dataframe tbody tr th {\n        vertical-align: top;\n    }\n\n    .dataframe thead th {\n        text-align: right;\n    }\n</style>\n<table border=\"1\" class=\"dataframe\">\n  <thead>\n    <tr style=\"text-align: right;\">\n      <th></th>\n      <th>reference</th>\n      <th>translation</th>\n      <th>ref_tox</th>\n      <th>trn_tox</th>\n    </tr>\n  </thead>\n  <tbody>\n    <tr>\n      <th>0</th>\n      <td>If Alkar is flooding her with psychic waste, t...</td>\n      <td>if Alkar floods her with her mental waste, it ...</td>\n      <td>0.014195</td>\n      <td>0.981983</td>\n    </tr>\n    <tr>\n      <th>1</th>\n      <td>Now you're getting nasty.</td>\n      <td>you're becoming disgusting.</td>\n      <td>0.065473</td>\n      <td>0.999039</td>\n    </tr>\n    <tr>\n      <th>2</th>\n      <td>Well, we could spare your life, for one.</td>\n      <td>well, we can spare your life.</td>\n      <td>0.213313</td>\n      <td>0.985068</td>\n    </tr>\n    <tr>\n      <th>3</th>\n      <td>Ah! Monkey, you've got to snap out of it.</td>\n      <td>monkey, you have to wake up.</td>\n      <td>0.053362</td>\n      <td>0.994215</td>\n    </tr>\n    <tr>\n      <th>4</th>\n      <td>I've got orders to put her down.</td>\n      <td>I have orders to kill her.</td>\n      <td>0.009402</td>\n      <td>0.999348</td>\n    </tr>\n  </tbody>\n</table>\n</div>"
     },
     "execution_count": 4,
     "metadata": {},
     "output_type": "execute_result"
    }
   ],
   "source": [
    "# Select the relevant columns for training the de-toxification model\n",
    "selected_columns = ['reference', 'translation', 'ref_tox', 'trn_tox']\n",
    "\n",
    "# Create a new DataFrame with selected columns\n",
    "selected_data = df[selected_columns]\n",
    "selected_data.head()"
   ],
   "metadata": {
    "collapsed": false,
    "ExecuteTime": {
     "end_time": "2023-11-02T21:46:33.355200900Z",
     "start_time": "2023-11-02T21:46:33.295198200Z"
    }
   }
  },
  {
   "cell_type": "code",
   "execution_count": 5,
   "outputs": [
    {
     "name": "stderr",
     "output_type": "stream",
     "text": [
      "[nltk_data] Downloading package punkt to\n",
      "[nltk_data]     C:\\Users\\rafai\\AppData\\Roaming\\nltk_data...\n",
      "[nltk_data]   Unzipping tokenizers\\punkt.zip.\n",
      "C:\\Users\\rafai\\AppData\\Local\\Temp\\ipykernel_13980\\1539150184.py:3: SettingWithCopyWarning: \n",
      "A value is trying to be set on a copy of a slice from a DataFrame.\n",
      "Try using .loc[row_indexer,col_indexer] = value instead\n",
      "\n",
      "See the caveats in the documentation: https://pandas.pydata.org/pandas-docs/stable/user_guide/indexing.html#returning-a-view-versus-a-copy\n",
      "  selected_data['reference'] = selected_data['reference'].apply(lambda text: ' '.join(word_tokenize(text)))\n",
      "C:\\Users\\rafai\\AppData\\Local\\Temp\\ipykernel_13980\\1539150184.py:4: SettingWithCopyWarning: \n",
      "A value is trying to be set on a copy of a slice from a DataFrame.\n",
      "Try using .loc[row_indexer,col_indexer] = value instead\n",
      "\n",
      "See the caveats in the documentation: https://pandas.pydata.org/pandas-docs/stable/user_guide/indexing.html#returning-a-view-versus-a-copy\n",
      "  selected_data['translation'] = selected_data['translation'].apply(lambda text: ' '.join(word_tokenize(text)))\n"
     ]
    }
   ],
   "source": [
    "# Preprocess the text data\n",
    "nltk.download('punkt')  # Download the Punkt tokenizer models\n",
    "selected_data['reference'] = selected_data['reference'].apply(lambda text: ' '.join(word_tokenize(text)))\n",
    "selected_data['translation'] = selected_data['translation'].apply(lambda text: ' '.join(word_tokenize(text)))\n"
   ],
   "metadata": {
    "collapsed": false,
    "ExecuteTime": {
     "end_time": "2023-11-02T21:49:18.370686800Z",
     "start_time": "2023-11-02T21:46:47.194302900Z"
    }
   }
  },
  {
   "cell_type": "code",
   "execution_count": 6,
   "outputs": [
    {
     "name": "stderr",
     "output_type": "stream",
     "text": [
      "C:\\Users\\rafai\\AppData\\Local\\Temp\\ipykernel_13980\\3232388152.py:3: SettingWithCopyWarning: \n",
      "A value is trying to be set on a copy of a slice from a DataFrame.\n",
      "Try using .loc[row_indexer,col_indexer] = value instead\n",
      "\n",
      "See the caveats in the documentation: https://pandas.pydata.org/pandas-docs/stable/user_guide/indexing.html#returning-a-view-versus-a-copy\n",
      "  selected_data['ref_tox'] = scaler.fit_transform(selected_data['ref_tox'].values.reshape(-1, 1))\n",
      "C:\\Users\\rafai\\AppData\\Local\\Temp\\ipykernel_13980\\3232388152.py:4: SettingWithCopyWarning: \n",
      "A value is trying to be set on a copy of a slice from a DataFrame.\n",
      "Try using .loc[row_indexer,col_indexer] = value instead\n",
      "\n",
      "See the caveats in the documentation: https://pandas.pydata.org/pandas-docs/stable/user_guide/indexing.html#returning-a-view-versus-a-copy\n",
      "  selected_data['trn_tox'] = scaler.fit_transform(selected_data['trn_tox'].values.reshape(-1, 1))\n"
     ]
    }
   ],
   "source": [
    "# Standardize the toxicity scores\n",
    "scaler = StandardScaler()\n",
    "selected_data['ref_tox'] = scaler.fit_transform(selected_data['ref_tox'].values.reshape(-1, 1))\n",
    "selected_data['trn_tox'] = scaler.fit_transform(selected_data['trn_tox'].values.reshape(-1, 1))\n"
   ],
   "metadata": {
    "collapsed": false,
    "ExecuteTime": {
     "end_time": "2023-11-02T21:50:11.146677Z",
     "start_time": "2023-11-02T21:50:11.082678400Z"
    }
   }
  },
  {
   "cell_type": "code",
   "execution_count": 7,
   "outputs": [
    {
     "data": {
      "text/plain": "                                           reference  \\\n0  If Alkar is flooding her with psychic waste , ...   \n1                        Now you 're getting nasty .   \n2        Well , we could spare your life , for one .   \n3      Ah ! Monkey , you 've got to snap out of it .   \n4                 I 've got orders to put her down .   \n\n                                         translation   ref_tox   trn_tox  \n0  if Alkar floods her with her mental waste , it... -1.152122  1.193047  \n1                      you 're becoming disgusting . -1.040057  1.230213  \n2                    well , we can spare your life . -0.716958  1.199768  \n3                     monkey , you have to wake up . -1.066524  1.219701  \n4                        I have orders to kill her . -1.162597  1.230887  ",
      "text/html": "<div>\n<style scoped>\n    .dataframe tbody tr th:only-of-type {\n        vertical-align: middle;\n    }\n\n    .dataframe tbody tr th {\n        vertical-align: top;\n    }\n\n    .dataframe thead th {\n        text-align: right;\n    }\n</style>\n<table border=\"1\" class=\"dataframe\">\n  <thead>\n    <tr style=\"text-align: right;\">\n      <th></th>\n      <th>reference</th>\n      <th>translation</th>\n      <th>ref_tox</th>\n      <th>trn_tox</th>\n    </tr>\n  </thead>\n  <tbody>\n    <tr>\n      <th>0</th>\n      <td>If Alkar is flooding her with psychic waste , ...</td>\n      <td>if Alkar floods her with her mental waste , it...</td>\n      <td>-1.152122</td>\n      <td>1.193047</td>\n    </tr>\n    <tr>\n      <th>1</th>\n      <td>Now you 're getting nasty .</td>\n      <td>you 're becoming disgusting .</td>\n      <td>-1.040057</td>\n      <td>1.230213</td>\n    </tr>\n    <tr>\n      <th>2</th>\n      <td>Well , we could spare your life , for one .</td>\n      <td>well , we can spare your life .</td>\n      <td>-0.716958</td>\n      <td>1.199768</td>\n    </tr>\n    <tr>\n      <th>3</th>\n      <td>Ah ! Monkey , you 've got to snap out of it .</td>\n      <td>monkey , you have to wake up .</td>\n      <td>-1.066524</td>\n      <td>1.219701</td>\n    </tr>\n    <tr>\n      <th>4</th>\n      <td>I 've got orders to put her down .</td>\n      <td>I have orders to kill her .</td>\n      <td>-1.162597</td>\n      <td>1.230887</td>\n    </tr>\n  </tbody>\n</table>\n</div>"
     },
     "execution_count": 7,
     "metadata": {},
     "output_type": "execute_result"
    }
   ],
   "source": [
    "selected_data.head()"
   ],
   "metadata": {
    "collapsed": false,
    "ExecuteTime": {
     "end_time": "2023-11-02T21:50:22.457790700Z",
     "start_time": "2023-11-02T21:50:22.392799400Z"
    }
   }
  },
  {
   "cell_type": "markdown",
   "source": [
    "Split the data into 80% for training and 20% for testing"
   ],
   "metadata": {
    "collapsed": false
   }
  },
  {
   "cell_type": "code",
   "execution_count": 10,
   "outputs": [],
   "source": [
    "# Split the data into training, validation, and test sets\n",
    "# 80% for training and 20% for testing\n",
    "train_data, test_data = train_test_split(selected_data, test_size=0.2, random_state=42)\n"
   ],
   "metadata": {
    "collapsed": false,
    "ExecuteTime": {
     "end_time": "2023-11-02T21:57:26.351487700Z",
     "start_time": "2023-11-02T21:57:26.083491500Z"
    }
   }
  },
  {
   "cell_type": "code",
   "execution_count": 11,
   "outputs": [],
   "source": [
    "# Save the split datasets to separate CSV files\n",
    "train_data.to_csv(DATA_PATH + 'interim/train.csv', index=False)\n",
    "test_data.to_csv(DATA_PATH + 'interim/test.csv', index=False)\n"
   ],
   "metadata": {
    "collapsed": false,
    "ExecuteTime": {
     "end_time": "2023-11-02T21:57:32.412988100Z",
     "start_time": "2023-11-02T21:57:28.236181900Z"
    }
   }
  },
  {
   "cell_type": "code",
   "execution_count": null,
   "outputs": [],
   "source": [],
   "metadata": {
    "collapsed": false
   }
  }
 ],
 "metadata": {
  "kernelspec": {
   "display_name": "Python 3",
   "language": "python",
   "name": "python3"
  },
  "language_info": {
   "codemirror_mode": {
    "name": "ipython",
    "version": 2
   },
   "file_extension": ".py",
   "mimetype": "text/x-python",
   "name": "python",
   "nbconvert_exporter": "python",
   "pygments_lexer": "ipython2",
   "version": "2.7.6"
  }
 },
 "nbformat": 4,
 "nbformat_minor": 0
}
